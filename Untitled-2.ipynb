{
 "cells": [
  {
   "cell_type": "code",
   "execution_count": 1,
   "metadata": {},
   "outputs": [
    {
     "name": "stdout",
     "output_type": "stream",
     "text": [
      "hostname OMRAN\n",
      "ip_add 192.168.182.210\n"
     ]
    }
   ],
   "source": [
    "#omran mhammed wali\n",
    "#2191804740\n",
    "\n",
    "import socket\n",
    "def HostInfo():\n",
    "    hostname=socket.gethostname()\n",
    "\n",
    "    Ip_address=socket.gethostbyname(hostname)\n",
    "    print(\"hostname\",hostname)\n",
    "\n",
    "    print(\"ip_add\", Ip_address)\n",
    "\n",
    "HostInfo()\n"
   ]
  }
 ],
 "metadata": {
  "kernelspec": {
   "display_name": "Python 3",
   "language": "python",
   "name": "python3"
  },
  "language_info": {
   "codemirror_mode": {
    "name": "ipython",
    "version": 3
   },
   "file_extension": ".py",
   "mimetype": "text/x-python",
   "name": "python",
   "nbconvert_exporter": "python",
   "pygments_lexer": "ipython3",
   "version": "3.11.4"
  },
  "orig_nbformat": 4
 },
 "nbformat": 4,
 "nbformat_minor": 2
}
